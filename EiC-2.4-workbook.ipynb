{
 "cells": [
  {
   "cell_type": "markdown",
   "metadata": {},
   "source": [
    "# <span style=\"color:seagreen;\">Workbook for Chapter 2 of Explorations in Computing</span>"
   ]
  },
  {
   "cell_type": "markdown",
   "metadata": {},
   "source": [
    "### <span style=\"color:seagreen;\">Section 2.4: Defining New Functions: Statements</span>"
   ]
  },
  {
   "cell_type": "markdown",
   "metadata": {},
   "source": [
    "T31. Enter the definition of the `celsius` function from Figure 2.5 in the code cell below.\n",
    "\n",
    "**Important** Type the code exactly as it is shown in the textbook, including the four spaces before the word `return`."
   ]
  },
  {
   "cell_type": "code",
   "execution_count": 5,
   "metadata": {},
   "outputs": [],
   "source": [
    "def celsius(x):\n",
    "    \"\"\"Convert temperature from F to C\"\"\"\n",
    "    return (x - 32) * 5 / 9"
   ]
  },
  {
   "cell_type": "markdown",
   "metadata": {
    "collapsed": true
   },
   "source": [
    "T32. After you have entered the complete definition in the cell above tell Python to execute the cell by typing ⌃⏎ \n",
    "\n",
    "If Python does not print anything after you evaluate the cell you are ready to test the function.  If the output area below the code cell shows any error messages fix the mistake and type ⌃⏎ again.  "
   ]
  },
  {
   "cell_type": "markdown",
   "metadata": {},
   "source": [
    "T33. Evaluate expressions that call your new function:"
   ]
  },
  {
   "cell_type": "code",
   "execution_count": 2,
   "metadata": {},
   "outputs": [
    {
     "data": {
      "text/plain": [
       "100.0"
      ]
     },
     "execution_count": 2,
     "metadata": {},
     "output_type": "execute_result"
    }
   ],
   "source": [
    "celsius(212)"
   ]
  },
  {
   "cell_type": "code",
   "execution_count": 3,
   "metadata": {},
   "outputs": [
    {
     "data": {
      "text/plain": [
       "-17.77777777777778"
      ]
     },
     "execution_count": 3,
     "metadata": {},
     "output_type": "execute_result"
    }
   ],
   "source": [
    "celsius(0)"
   ]
  },
  {
   "cell_type": "markdown",
   "metadata": {},
   "source": [
    "T34. If you did not include the docstring in your code cell add it now and type ⌃⏎ again."
   ]
  },
  {
   "cell_type": "markdown",
   "metadata": {},
   "source": [
    "T35. Now that your function has a docstring Python should print a helpful message when you ask to see its documentation.  Type `help(celsius)` in the cell below and hit ⌃⏎"
   ]
  },
  {
   "cell_type": "code",
   "execution_count": 6,
   "metadata": {},
   "outputs": [
    {
     "name": "stdout",
     "output_type": "stream",
     "text": [
      "Help on function celsius in module __main__:\n",
      "\n",
      "celsius(x)\n",
      "    Convert temperature from F to C\n",
      "\n"
     ]
    }
   ],
   "source": [
    "help(celsius)"
   ]
  },
  {
   "cell_type": "markdown",
   "metadata": {},
   "source": [
    "T36. Enter the definition of the `countertop` function from Figure 2.6 in this code cell and then execute the cell by typing ⌃⏎"
   ]
  },
  {
   "cell_type": "code",
   "execution_count": 7,
   "metadata": {},
   "outputs": [],
   "source": [
    "def countertop(x):\n",
    "    \"\"\"\n",
    "    The function to calculate the area of a square countertop, whose\n",
    "    length is x and with a missing right triangle whose legs are of \n",
    "    equal length (x/2)\n",
    "    \"\"\"\n",
    "    square = x**2 # calculate the overall area of the countertop\n",
    "    triangle = 0.5*(x/2)**2  # calculate the missing triangle\n",
    "    return square - triangle"
   ]
  },
  {
   "cell_type": "markdown",
   "metadata": {},
   "source": [
    "T38. Evaluate some expressions that test the new function:"
   ]
  },
  {
   "cell_type": "code",
   "execution_count": 8,
   "metadata": {},
   "outputs": [
    {
     "data": {
      "text/plain": [
       "10395.875"
      ]
     },
     "execution_count": 8,
     "metadata": {},
     "output_type": "execute_result"
    }
   ],
   "source": [
    "countertop(109)"
   ]
  },
  {
   "cell_type": "code",
   "execution_count": 9,
   "metadata": {},
   "outputs": [
    {
     "data": {
      "text/plain": [
       "10780.875"
      ]
     },
     "execution_count": 9,
     "metadata": {},
     "output_type": "execute_result"
    }
   ],
   "source": [
    "countertop(111)"
   ]
  },
  {
   "cell_type": "markdown",
   "metadata": {},
   "source": [
    "T39. To verify the fact that `square` is a local variable try to evaluate an expression that uses `square`:"
   ]
  },
  {
   "cell_type": "code",
   "execution_count": 10,
   "metadata": {},
   "outputs": [
    {
     "ename": "NameError",
     "evalue": "name 'square' is not defined",
     "output_type": "error",
     "traceback": [
      "\u001b[1;31m---------------------------------------------------------------------------\u001b[0m",
      "\u001b[1;31mNameError\u001b[0m                                 Traceback (most recent call last)",
      "\u001b[1;32m<ipython-input-10-8326c73d1141>\u001b[0m in \u001b[0;36m<module>\u001b[1;34m\u001b[0m\n\u001b[1;32m----> 1\u001b[1;33m \u001b[0msquare\u001b[0m\u001b[1;33m+\u001b[0m\u001b[1;36m1\u001b[0m\u001b[1;33m\u001b[0m\u001b[1;33m\u001b[0m\u001b[0m\n\u001b[0m",
      "\u001b[1;31mNameError\u001b[0m: name 'square' is not defined"
     ]
    }
   ],
   "source": [
    "square+1"
   ]
  },
  {
   "cell_type": "markdown",
   "metadata": {},
   "source": [
    "T40. What would Python have printed for the value of `2 * square` if `square` was not a local variable, that is, if the value was still available after returning from the call to `countertop`?  Enter your answer in the markdown cell below."
   ]
  },
  {
   "cell_type": "markdown",
   "metadata": {
    "collapsed": true
   },
   "source": [
    "$$2*111^2$$"
   ]
  }
 ],
 "metadata": {
  "kernelspec": {
   "display_name": "Python 3",
   "language": "python",
   "name": "python3"
  },
  "language_info": {
   "codemirror_mode": {
    "name": "ipython",
    "version": 3
   },
   "file_extension": ".py",
   "mimetype": "text/x-python",
   "name": "python",
   "nbconvert_exporter": "python",
   "pygments_lexer": "ipython3",
   "version": "3.8.3"
  }
 },
 "nbformat": 4,
 "nbformat_minor": 1
}
